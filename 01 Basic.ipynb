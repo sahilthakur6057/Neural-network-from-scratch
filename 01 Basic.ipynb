{
 "cells": [
  {
   "cell_type": "markdown",
   "id": "319f17f5-7d60-465c-9902-bcbe2bf8ae8a",
   "metadata": {},
   "source": [
    "### Single neuron"
   ]
  },
  {
   "cell_type": "code",
   "execution_count": 1,
   "id": "181ff5f8-61ce-4ff3-9056-d5793c1b5a4c",
   "metadata": {},
   "outputs": [],
   "source": [
    "inputs  = [1,2,3]\n",
    "weights = [0.2,0.8, -0.5]\n",
    "bias    = 2"
   ]
  },
  {
   "cell_type": "markdown",
   "id": "1c0ceee1-9a8b-43a1-acb3-0ad51eaed68f",
   "metadata": {},
   "source": [
    "##### multiplying one by one elemnts  from inputs and weights"
   ]
  },
  {
   "cell_type": "code",
   "execution_count": 2,
   "id": "260f43f4-11f3-401e-b752-6a5d80e2a055",
   "metadata": {},
   "outputs": [
    {
     "name": "stdout",
     "output_type": "stream",
     "text": [
      "2.3\n"
     ]
    }
   ],
   "source": [
    "output = inputs[0]*weights[0]+ inputs[1]*weights[1]+ inputs[2]*weights[2] + bias\n",
    "print(output)"
   ]
  },
  {
   "cell_type": "markdown",
   "id": "9ab11ec3-3360-4628-9386-f24f80913a97",
   "metadata": {},
   "source": [
    "##### Adding an input"
   ]
  },
  {
   "cell_type": "code",
   "execution_count": 3,
   "id": "0fe00c31-3771-43d7-a35e-9c9a055d3399",
   "metadata": {},
   "outputs": [],
   "source": [
    "inputs  = [1,2,3, 2.5]\n",
    "weights = [0.2,0.8, -0.5 ,1.0]\n",
    "bias    = 2"
   ]
  },
  {
   "cell_type": "code",
   "execution_count": 4,
   "id": "074a18dd-d695-470d-a1de-ad08d1a46018",
   "metadata": {},
   "outputs": [
    {
     "name": "stdout",
     "output_type": "stream",
     "text": [
      "4.8\n"
     ]
    }
   ],
   "source": [
    "output = inputs[0]*weights[0]+ inputs[1]*weights[1]+ inputs[2]*weights[2]+ inputs[3]*weights[3] + bias\n",
    "print(output)"
   ]
  },
  {
   "cell_type": "code",
   "execution_count": null,
   "id": "07031c51-60e5-4476-a91d-cc321368ebba",
   "metadata": {},
   "outputs": [],
   "source": []
  },
  {
   "cell_type": "code",
   "execution_count": null,
   "id": "8b91c724-d86a-4710-9833-31e4f60f7590",
   "metadata": {},
   "outputs": [],
   "source": []
  },
  {
   "cell_type": "markdown",
   "id": "23dc9682-23d4-4f60-8738-b246dd64c5c0",
   "metadata": {},
   "source": [
    "#### Layer of Neuron"
   ]
  },
  {
   "cell_type": "code",
   "execution_count": 9,
   "id": "a1770c4f-c25f-47f6-b243-e5c6cad21b65",
   "metadata": {},
   "outputs": [],
   "source": [
    "inputs = [1,2,3, 2.5]\n",
    "weights1 = [0.2, 0.8, -0.5, 1.0]\n",
    "weights2 = [0.5, -0.91, 0.26, -0.5]\n",
    "weights3 = [-0.26, -0.27, 0.17, 0.87]\n",
    "\n",
    "bias1 = 2\n",
    "bias2 = 3\n",
    "bias3 = 0.5"
   ]
  },
  {
   "cell_type": "code",
   "execution_count": 16,
   "id": "536ab71d-df07-484f-bda4-e69ff860ff84",
   "metadata": {},
   "outputs": [],
   "source": [
    "outputs = [\n",
    "    # first neuron\n",
    "    inputs[0] * weights1[0]+\n",
    "    inputs[1] * weights1[1]+\n",
    "    inputs[2] * weights1[2]+\n",
    "    inputs[3] * weights1[3]+ bias1 ,\n",
    "\n",
    "    # second\n",
    "    inputs[0] * weights2[0]+\n",
    "    inputs[1] * weights2[1]+\n",
    "    inputs[2] * weights2[2]+\n",
    "    inputs[3] * weights2[3]+ bias2,\n",
    "\n",
    "    # third neuron\n",
    "    inputs[0] * weights3[0]+\n",
    "    inputs[1] * weights3[1]+\n",
    "    inputs[2] * weights3[2]+\n",
    "    inputs[3] * weights3[3]+ bias3\n",
    "    \n",
    "]"
   ]
  },
  {
   "cell_type": "code",
   "execution_count": 17,
   "id": "f59c4ab6-4f45-4b32-b88c-20ca8737d9ed",
   "metadata": {},
   "outputs": [
    {
     "name": "stdout",
     "output_type": "stream",
     "text": [
      "[4.8, 1.21, 2.385]\n"
     ]
    }
   ],
   "source": [
    "print(outputs)"
   ]
  },
  {
   "cell_type": "code",
   "execution_count": null,
   "id": "8455ce11-8d7f-42ca-92c2-8e4297ee43cd",
   "metadata": {},
   "outputs": [],
   "source": []
  },
  {
   "cell_type": "markdown",
   "id": "a1ebe2e8-2dff-4901-87c5-0f4b3a720ad6",
   "metadata": {},
   "source": [
    "#### Calculating through loops"
   ]
  },
  {
   "cell_type": "code",
   "execution_count": 19,
   "id": "8e289224-7292-477f-8c7e-94f06d59e7ee",
   "metadata": {},
   "outputs": [],
   "source": [
    " inputs = [1,2,3, 2.5]\n",
    "weights = [[0.2, 0.8, -0.5, 1.0],\n",
    "           [0.5, -0.91, 0.26, -0.5],\n",
    "           [-0.26, -0.27, 0.17, 0.87]]\n",
    "\n",
    "\n",
    "biases = [2,3,0.5]"
   ]
  },
  {
   "cell_type": "code",
   "execution_count": 20,
   "id": "1b2fbc21-3f93-4740-a58d-3dba8a41ec8c",
   "metadata": {},
   "outputs": [],
   "source": [
    "layers_output = []"
   ]
  },
  {
   "cell_type": "code",
   "execution_count": 21,
   "id": "3a5292e7-0c5b-4610-9d43-d079d2f9bacf",
   "metadata": {},
   "outputs": [
    {
     "name": "stdout",
     "output_type": "stream",
     "text": [
      "[4.8, 1.21, 2.385]\n"
     ]
    }
   ],
   "source": [
    "# for each neuron\n",
    "for neuron_weights, neuron_bias in zip(weights, biases):\n",
    "    # setting a variable\n",
    "    neuron_output = 0\n",
    "    # for each input and weight \n",
    "    for n_input, weight in zip(inputs, neuron_weights):\n",
    "        neuron_output += n_input *  weight\n",
    "\n",
    "    neuron_output +=  neuron_bias\n",
    "\n",
    "    layers_output.append(neuron_output)\n",
    "\n",
    "print(layers_output)"
   ]
  },
  {
   "cell_type": "code",
   "execution_count": null,
   "id": "511824d5-9af9-48fc-9612-6cc3fa1e2d5b",
   "metadata": {},
   "outputs": [],
   "source": []
  },
  {
   "cell_type": "markdown",
   "id": "2ae7880a-2598-42ac-90da-1189a606918e",
   "metadata": {},
   "source": [
    "#### Dot product of 2 vectors"
   ]
  },
  {
   "cell_type": "code",
   "execution_count": 22,
   "id": "7259bf09-9a84-401d-be97-131995a44ab9",
   "metadata": {},
   "outputs": [],
   "source": [
    "import numpy as  np"
   ]
  },
  {
   "cell_type": "code",
   "execution_count": 25,
   "id": "110a22e1-23c5-4450-b954-6a2dea1fbecd",
   "metadata": {},
   "outputs": [],
   "source": [
    "a = [1,2,3]\n",
    "b = [2,3,4]"
   ]
  },
  {
   "cell_type": "code",
   "execution_count": 26,
   "id": "05a80161-ae53-4b9f-bc84-647906626461",
   "metadata": {},
   "outputs": [
    {
     "data": {
      "text/plain": [
       "np.int64(20)"
      ]
     },
     "execution_count": 26,
     "metadata": {},
     "output_type": "execute_result"
    }
   ],
   "source": [
    "np.dot(a,b)"
   ]
  },
  {
   "cell_type": "code",
   "execution_count": 27,
   "id": "c8b5d1df-2a67-4698-a4e5-6c410e4deafb",
   "metadata": {},
   "outputs": [
    {
     "data": {
      "text/plain": [
       "20"
      ]
     },
     "execution_count": 27,
     "metadata": {},
     "output_type": "execute_result"
    }
   ],
   "source": [
    "a[0]*b[0] + a[1]*b[1] + a[2]*b[2]"
   ]
  },
  {
   "cell_type": "code",
   "execution_count": null,
   "id": "6b56e838-b443-4382-aa20-2c9de03c0c95",
   "metadata": {},
   "outputs": [],
   "source": []
  },
  {
   "cell_type": "code",
   "execution_count": null,
   "id": "fc364bc0-606c-4859-9937-e2e7a5ec3eee",
   "metadata": {},
   "outputs": [],
   "source": []
  },
  {
   "cell_type": "code",
   "execution_count": null,
   "id": "dbf5d7dd-3eac-44f0-a3c1-e480c3875b68",
   "metadata": {},
   "outputs": [],
   "source": []
  },
  {
   "cell_type": "code",
   "execution_count": null,
   "id": "8bc961ec-e1f4-480f-b378-c59cdc3889a5",
   "metadata": {},
   "outputs": [],
   "source": []
  },
  {
   "cell_type": "code",
   "execution_count": null,
   "id": "62651d57-4609-4c03-ada3-c644fa0e9c2c",
   "metadata": {},
   "outputs": [],
   "source": []
  },
  {
   "cell_type": "code",
   "execution_count": null,
   "id": "8c0c4739-5f70-4e24-8c9d-65d5813f5fc9",
   "metadata": {},
   "outputs": [],
   "source": []
  },
  {
   "cell_type": "code",
   "execution_count": null,
   "id": "c792b23a-2836-42b5-a085-6f41bc9c092e",
   "metadata": {},
   "outputs": [],
   "source": []
  },
  {
   "cell_type": "code",
   "execution_count": null,
   "id": "52530b46-5c92-4738-8c76-aa7c7ab6855c",
   "metadata": {},
   "outputs": [],
   "source": []
  },
  {
   "cell_type": "code",
   "execution_count": null,
   "id": "1135edf9-2351-41d3-b5b2-163effb10e1a",
   "metadata": {},
   "outputs": [],
   "source": []
  },
  {
   "cell_type": "code",
   "execution_count": null,
   "id": "7767cd4b-2222-4206-9d7c-cf1bc4b1d1ac",
   "metadata": {},
   "outputs": [],
   "source": []
  },
  {
   "cell_type": "code",
   "execution_count": null,
   "id": "8282af9c-8e66-4265-9129-1f800389f4a8",
   "metadata": {},
   "outputs": [],
   "source": []
  },
  {
   "cell_type": "code",
   "execution_count": null,
   "id": "d79ca361-eed0-4e7d-8833-4a683114a3a3",
   "metadata": {},
   "outputs": [],
   "source": []
  },
  {
   "cell_type": "code",
   "execution_count": null,
   "id": "9c5a0b4e-7caa-48a9-a268-d1a7a11d71f7",
   "metadata": {},
   "outputs": [],
   "source": []
  },
  {
   "cell_type": "code",
   "execution_count": null,
   "id": "d97fcf66-c53a-44c6-85cc-f03ca092c150",
   "metadata": {},
   "outputs": [],
   "source": []
  },
  {
   "cell_type": "code",
   "execution_count": null,
   "id": "c11c0264-694d-4b40-88b4-816a97e6fb8e",
   "metadata": {},
   "outputs": [],
   "source": []
  },
  {
   "cell_type": "code",
   "execution_count": null,
   "id": "fd97b32e-5f66-4192-a4ba-ad1bcc3865a8",
   "metadata": {},
   "outputs": [],
   "source": []
  },
  {
   "cell_type": "code",
   "execution_count": null,
   "id": "e149fb64-61ae-4adc-b736-dc20c83e7610",
   "metadata": {},
   "outputs": [],
   "source": []
  }
 ],
 "metadata": {
  "kernelspec": {
   "display_name": "Python [conda env:base] *",
   "language": "python",
   "name": "conda-base-py"
  },
  "language_info": {
   "codemirror_mode": {
    "name": "ipython",
    "version": 3
   },
   "file_extension": ".py",
   "mimetype": "text/x-python",
   "name": "python",
   "nbconvert_exporter": "python",
   "pygments_lexer": "ipython3",
   "version": "3.13.5"
  }
 },
 "nbformat": 4,
 "nbformat_minor": 5
}
